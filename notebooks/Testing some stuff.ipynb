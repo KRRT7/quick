{
 "cells": [
  {
   "cell_type": "code",
   "execution_count": 6,
   "metadata": {},
   "outputs": [],
   "source": [
    "import sys\n",
    "sys.path.append(\"C:/Users/A.C.EA/OneDrive/Documents/GitHub/QICKIT\")"
   ]
  },
  {
   "cell_type": "code",
   "execution_count": 7,
   "metadata": {},
   "outputs": [],
   "source": [
    "from qickit.circuit import QiskitCircuit"
   ]
  },
  {
   "cell_type": "code",
   "execution_count": 8,
   "metadata": {},
   "outputs": [],
   "source": [
    "qc = QiskitCircuit(4, 4)\n",
    "\n",
    "qc.MCX([0, 1], [2, 3])\n",
    "\n",
    "unitary = qc.get_unitary()"
   ]
  },
  {
   "cell_type": "code",
   "execution_count": 9,
   "metadata": {},
   "outputs": [
    {
     "name": "stdout",
     "output_type": "stream",
     "text": [
      "2.5928519981876477\n",
      "Phase is 0.0\n",
      "2.5928519981876477\n",
      "Phase is 0.0\n"
     ]
    },
    {
     "data": {
      "text/plain": [
       "0.0"
      ]
     },
     "execution_count": 9,
     "metadata": {},
     "output_type": "execute_result"
    }
   ],
   "source": [
    "qc.transpile()\n",
    "\n",
    "qc.circuit.global_phase"
   ]
  },
  {
   "cell_type": "code",
   "execution_count": 1,
   "metadata": {},
   "outputs": [
    {
     "data": {
      "text/plain": [
       "1"
      ]
     },
     "execution_count": 1,
     "metadata": {},
     "output_type": "execute_result"
    }
   ],
   "source": [
    "from qiskit import QuantumCircuit, transpile\n",
    "from qiskit.quantum_info import Operator\n",
    "from qiskit.circuit.library import GlobalPhaseGate\n",
    "\n",
    "\n",
    "qc_qiskit = QuantumCircuit(2, 2)\n",
    "\n",
    "qc_qiskit.cx(0, 1)\n",
    "\n",
    "transpiled_qc = transpile(qc_qiskit,\n",
    "                          basis_gates=['u3', 'cx'],\n",
    "                          optimization_level=3,\n",
    "                          seed_transpiler=0)\n",
    "\n",
    "transpiled_qc.append(GlobalPhaseGate(2.5928519981876477), [], [])\n",
    "\n",
    "transpiled_qc.global_phase\n",
    "\n",
    "transpiled_qc.depth()"
   ]
  },
  {
   "cell_type": "code",
   "execution_count": 6,
   "metadata": {},
   "outputs": [],
   "source": [
    "from numpy.testing import assert_almost_equal\n",
    "\n",
    "assert_almost_equal(qc.get_unitary(), Operator(transpiled_qc).data, decimal=8, verbose=True)"
   ]
  }
 ],
 "metadata": {
  "kernelspec": {
   "display_name": ".venv",
   "language": "python",
   "name": "python3"
  },
  "language_info": {
   "codemirror_mode": {
    "name": "ipython",
    "version": 3
   },
   "file_extension": ".py",
   "mimetype": "text/x-python",
   "name": "python",
   "nbconvert_exporter": "python",
   "pygments_lexer": "ipython3",
   "version": "3.11.9"
  }
 },
 "nbformat": 4,
 "nbformat_minor": 2
}
