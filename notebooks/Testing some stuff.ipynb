{
 "cells": [
  {
   "cell_type": "code",
   "execution_count": 1,
   "metadata": {},
   "outputs": [],
   "source": [
    "import sys\n",
    "sys.path.append(\"/mnt/c/Users/A.C.EA/Documents/GitHub/QICKIT\")"
   ]
  },
  {
   "cell_type": "code",
   "execution_count": 2,
   "metadata": {},
   "outputs": [],
   "source": [
    "from qickit.circuit import QiskitCircuit"
   ]
  },
  {
   "cell_type": "code",
   "execution_count": 3,
   "metadata": {},
   "outputs": [],
   "source": [
    "qc = QiskitCircuit(4, 4)\n",
    "\n",
    "qc.MCX([0, 1], [2, 3])\n",
    "\n",
    "# unitary = qc.get_unitary()"
   ]
  },
  {
   "cell_type": "code",
   "execution_count": 4,
   "metadata": {},
   "outputs": [
    {
     "data": {
      "text/plain": [
       "189"
      ]
     },
     "execution_count": 4,
     "metadata": {},
     "output_type": "execute_result"
    }
   ],
   "source": [
    "qc.transpile()\n",
    "\n",
    "qc.get_depth()"
   ]
  },
  {
   "cell_type": "code",
   "execution_count": 14,
   "metadata": {},
   "outputs": [],
   "source": [
    "from qiskit import transpile\n",
    "\n",
    "new_qc = transpile(qc.circuit, basis_gates=['cx', 'u3'], optimization_level=3)"
   ]
  },
  {
   "cell_type": "code",
   "execution_count": 15,
   "metadata": {},
   "outputs": [
    {
     "data": {
      "text/plain": [
       "176"
      ]
     },
     "execution_count": 15,
     "metadata": {},
     "output_type": "execute_result"
    }
   ],
   "source": [
    "new_qc.depth()"
   ]
  },
  {
   "cell_type": "code",
   "execution_count": 3,
   "metadata": {},
   "outputs": [
    {
     "data": {
      "text/plain": [
       "21"
      ]
     },
     "execution_count": 3,
     "metadata": {},
     "output_type": "execute_result"
    }
   ],
   "source": [
    "from qiskit import QuantumCircuit, transpile\n",
    "from qiskit.quantum_info import Operator\n",
    "from qiskit.circuit.library import GlobalPhaseGate\n",
    "\n",
    "\n",
    "qc_qiskit = QuantumCircuit(4, 4)\n",
    "\n",
    "qc_qiskit.mcx([0, 1], 2)\n",
    "qc_qiskit.mcx([0, 1], 3)\n",
    "\n",
    "transpiled_qc = transpile(qc_qiskit,\n",
    "                          basis_gates=['u3', 'cx'],\n",
    "                          optimization_level=3,\n",
    "                          seed_transpiler=0)\n",
    "\n",
    "transpiled_qc.depth()"
   ]
  },
  {
   "cell_type": "code",
   "execution_count": 6,
   "metadata": {},
   "outputs": [
    {
     "data": {
      "text/plain": [
       "'OPENQASM 2.0;\\ninclude \"qelib1.inc\";\\nqreg q[4];\\ncreg c[4];\\nccx q[0],q[1],q[2];\\nccx q[0],q[1],q[3];'"
      ]
     },
     "execution_count": 6,
     "metadata": {},
     "output_type": "execute_result"
    }
   ],
   "source": [
    "import qiskit.qasm2\n",
    "\n",
    "qasm = qiskit.qasm2.dumps(qc_qiskit)\n",
    "qasm"
   ]
  },
  {
   "cell_type": "code",
   "execution_count": 2,
   "metadata": {},
   "outputs": [
    {
     "ename": "AccountNotFoundError",
     "evalue": "'Unable to find account.'",
     "output_type": "error",
     "traceback": [
      "\u001b[0;31m---------------------------------------------------------------------------\u001b[0m",
      "\u001b[0;31mAccountNotFoundError\u001b[0m                      Traceback (most recent call last)",
      "Cell \u001b[0;32mIn[2], line 9\u001b[0m\n\u001b[1;32m      5\u001b[0m \u001b[38;5;28;01mfrom\u001b[39;00m \u001b[38;5;21;01mqiskit_aer\u001b[39;00m \u001b[38;5;28;01mimport\u001b[39;00m AerSimulator\n\u001b[1;32m      8\u001b[0m \u001b[38;5;66;03m# get a real backend from the runtime service\u001b[39;00m\n\u001b[0;32m----> 9\u001b[0m service \u001b[38;5;241m=\u001b[39m \u001b[43mQiskitRuntimeService\u001b[49m\u001b[43m(\u001b[49m\u001b[43m)\u001b[49m\n\u001b[1;32m     10\u001b[0m backend \u001b[38;5;241m=\u001b[39m service\u001b[38;5;241m.\u001b[39mget_backend(\u001b[38;5;124m'\u001b[39m\u001b[38;5;124mibmq_manila\u001b[39m\u001b[38;5;124m'\u001b[39m)\n\u001b[1;32m     12\u001b[0m \u001b[38;5;66;03m# generate a simulator that mimics the real quantum system with the latest calibration results\u001b[39;00m\n",
      "File \u001b[0;32m/mnt/c/Users/A.C.EA/Documents/GitHub/QICKIT/.venv/lib/python3.11/site-packages/qiskit_ibm_runtime/qiskit_runtime_service.py:124\u001b[0m, in \u001b[0;36mQiskitRuntimeService.__init__\u001b[0;34m(self, channel, token, url, filename, name, instance, proxies, verify, channel_strategy)\u001b[0m\n\u001b[1;32m     81\u001b[0m \u001b[38;5;250m\u001b[39m\u001b[38;5;124;03m\"\"\"QiskitRuntimeService constructor\u001b[39;00m\n\u001b[1;32m     82\u001b[0m \n\u001b[1;32m     83\u001b[0m \u001b[38;5;124;03mAn account is selected in the following order:\u001b[39;00m\n\u001b[0;32m   (...)\u001b[0m\n\u001b[1;32m    120\u001b[0m \u001b[38;5;124;03m    IBMInputValueError: If an input is invalid.\u001b[39;00m\n\u001b[1;32m    121\u001b[0m \u001b[38;5;124;03m\"\"\"\u001b[39;00m\n\u001b[1;32m    122\u001b[0m \u001b[38;5;28msuper\u001b[39m()\u001b[38;5;241m.\u001b[39m\u001b[38;5;21m__init__\u001b[39m()\n\u001b[0;32m--> 124\u001b[0m \u001b[38;5;28mself\u001b[39m\u001b[38;5;241m.\u001b[39m_account \u001b[38;5;241m=\u001b[39m \u001b[38;5;28;43mself\u001b[39;49m\u001b[38;5;241;43m.\u001b[39;49m\u001b[43m_discover_account\u001b[49m\u001b[43m(\u001b[49m\n\u001b[1;32m    125\u001b[0m \u001b[43m    \u001b[49m\u001b[43mtoken\u001b[49m\u001b[38;5;241;43m=\u001b[39;49m\u001b[43mtoken\u001b[49m\u001b[43m,\u001b[49m\n\u001b[1;32m    126\u001b[0m \u001b[43m    \u001b[49m\u001b[43murl\u001b[49m\u001b[38;5;241;43m=\u001b[39;49m\u001b[43murl\u001b[49m\u001b[43m,\u001b[49m\n\u001b[1;32m    127\u001b[0m \u001b[43m    \u001b[49m\u001b[43minstance\u001b[49m\u001b[38;5;241;43m=\u001b[39;49m\u001b[43minstance\u001b[49m\u001b[43m,\u001b[49m\n\u001b[1;32m    128\u001b[0m \u001b[43m    \u001b[49m\u001b[43mchannel\u001b[49m\u001b[38;5;241;43m=\u001b[39;49m\u001b[43mchannel\u001b[49m\u001b[43m,\u001b[49m\n\u001b[1;32m    129\u001b[0m \u001b[43m    \u001b[49m\u001b[43mfilename\u001b[49m\u001b[38;5;241;43m=\u001b[39;49m\u001b[43mfilename\u001b[49m\u001b[43m,\u001b[49m\n\u001b[1;32m    130\u001b[0m \u001b[43m    \u001b[49m\u001b[43mname\u001b[49m\u001b[38;5;241;43m=\u001b[39;49m\u001b[43mname\u001b[49m\u001b[43m,\u001b[49m\n\u001b[1;32m    131\u001b[0m \u001b[43m    \u001b[49m\u001b[43mproxies\u001b[49m\u001b[38;5;241;43m=\u001b[39;49m\u001b[43mProxyConfiguration\u001b[49m\u001b[43m(\u001b[49m\u001b[38;5;241;43m*\u001b[39;49m\u001b[38;5;241;43m*\u001b[39;49m\u001b[43mproxies\u001b[49m\u001b[43m)\u001b[49m\u001b[43m \u001b[49m\u001b[38;5;28;43;01mif\u001b[39;49;00m\u001b[43m \u001b[49m\u001b[43mproxies\u001b[49m\u001b[43m \u001b[49m\u001b[38;5;28;43;01melse\u001b[39;49;00m\u001b[43m \u001b[49m\u001b[38;5;28;43;01mNone\u001b[39;49;00m\u001b[43m,\u001b[49m\n\u001b[1;32m    132\u001b[0m \u001b[43m    \u001b[49m\u001b[43mverify\u001b[49m\u001b[38;5;241;43m=\u001b[39;49m\u001b[43mverify\u001b[49m\u001b[43m,\u001b[49m\n\u001b[1;32m    133\u001b[0m \u001b[43m    \u001b[49m\u001b[43mchannel_strategy\u001b[49m\u001b[38;5;241;43m=\u001b[39;49m\u001b[43mchannel_strategy\u001b[49m\u001b[43m,\u001b[49m\n\u001b[1;32m    134\u001b[0m \u001b[43m\u001b[49m\u001b[43m)\u001b[49m\n\u001b[1;32m    136\u001b[0m \u001b[38;5;28mself\u001b[39m\u001b[38;5;241m.\u001b[39m_client_params \u001b[38;5;241m=\u001b[39m ClientParameters(\n\u001b[1;32m    137\u001b[0m     channel\u001b[38;5;241m=\u001b[39m\u001b[38;5;28mself\u001b[39m\u001b[38;5;241m.\u001b[39m_account\u001b[38;5;241m.\u001b[39mchannel,\n\u001b[1;32m    138\u001b[0m     token\u001b[38;5;241m=\u001b[39m\u001b[38;5;28mself\u001b[39m\u001b[38;5;241m.\u001b[39m_account\u001b[38;5;241m.\u001b[39mtoken,\n\u001b[0;32m   (...)\u001b[0m\n\u001b[1;32m    142\u001b[0m     verify\u001b[38;5;241m=\u001b[39m\u001b[38;5;28mself\u001b[39m\u001b[38;5;241m.\u001b[39m_account\u001b[38;5;241m.\u001b[39mverify,\n\u001b[1;32m    143\u001b[0m )\n\u001b[1;32m    145\u001b[0m \u001b[38;5;28mself\u001b[39m\u001b[38;5;241m.\u001b[39m_channel_strategy \u001b[38;5;241m=\u001b[39m channel_strategy \u001b[38;5;129;01mor\u001b[39;00m \u001b[38;5;28mself\u001b[39m\u001b[38;5;241m.\u001b[39m_account\u001b[38;5;241m.\u001b[39mchannel_strategy\n",
      "File \u001b[0;32m/mnt/c/Users/A.C.EA/Documents/GitHub/QICKIT/.venv/lib/python3.11/site-packages/qiskit_ibm_runtime/qiskit_runtime_service.py:248\u001b[0m, in \u001b[0;36mQiskitRuntimeService._discover_account\u001b[0;34m(self, token, url, instance, channel, filename, name, proxies, verify, channel_strategy)\u001b[0m\n\u001b[1;32m    246\u001b[0m \u001b[38;5;66;03m# channel is not defined yet, get it from the AccountManager\u001b[39;00m\n\u001b[1;32m    247\u001b[0m \u001b[38;5;28;01mif\u001b[39;00m account \u001b[38;5;129;01mis\u001b[39;00m \u001b[38;5;28;01mNone\u001b[39;00m:\n\u001b[0;32m--> 248\u001b[0m     account \u001b[38;5;241m=\u001b[39m \u001b[43mAccountManager\u001b[49m\u001b[38;5;241;43m.\u001b[39;49m\u001b[43mget\u001b[49m\u001b[43m(\u001b[49m\u001b[43mfilename\u001b[49m\u001b[38;5;241;43m=\u001b[39;49m\u001b[43mfilename\u001b[49m\u001b[43m)\u001b[49m\n\u001b[1;32m    250\u001b[0m \u001b[38;5;28;01mif\u001b[39;00m instance:\n\u001b[1;32m    251\u001b[0m     account\u001b[38;5;241m.\u001b[39minstance \u001b[38;5;241m=\u001b[39m instance\n",
      "File \u001b[0;32m/mnt/c/Users/A.C.EA/Documents/GitHub/QICKIT/.venv/lib/python3.11/site-packages/qiskit_ibm_runtime/accounts/management.py:195\u001b[0m, in \u001b[0;36mAccountManager.get\u001b[0;34m(cls, filename, name, channel)\u001b[0m\n\u001b[1;32m    192\u001b[0m     \u001b[38;5;28;01mif\u001b[39;00m account_name \u001b[38;5;129;01min\u001b[39;00m all_config:\n\u001b[1;32m    193\u001b[0m         \u001b[38;5;28;01mreturn\u001b[39;00m Account\u001b[38;5;241m.\u001b[39mfrom_saved_format(all_config[account_name])\n\u001b[0;32m--> 195\u001b[0m \u001b[38;5;28;01mraise\u001b[39;00m AccountNotFoundError(\u001b[38;5;124m\"\u001b[39m\u001b[38;5;124mUnable to find account.\u001b[39m\u001b[38;5;124m\"\u001b[39m)\n",
      "\u001b[0;31mAccountNotFoundError\u001b[0m: 'Unable to find account.'"
     ]
    }
   ],
   "source": [
    "from qiskit import QuantumCircuit\n",
    "from qiskit import transpile\n",
    "from qiskit.visualization import plot_histogram\n",
    "from qiskit_ibm_runtime import QiskitRuntimeService\n",
    "from qiskit_aer import AerSimulator\n",
    "\n",
    "\n",
    "# get a real backend from the runtime service\n",
    "service = QiskitRuntimeService()\n",
    "backend = service.get_backend('ibmq_manila')\n",
    "\n",
    "# generate a simulator that mimics the real quantum system with the latest calibration results\n",
    "backend_sim = AerSimulator.from_backend(backend)\n",
    "\n",
    "# Create a simple circuit\n",
    "circuit = QuantumCircuit(3)\n",
    "circuit.h(0)\n",
    "circuit.cx(0,1)\n",
    "circuit.cx(0,2)\n",
    "circuit.measure_all()\n",
    "circuit.draw('mpl', style=\"iqp\")\n",
    "\n",
    "# Transpile the ideal circuit to a circuit that can be directly executed by the backend\n",
    "transpiled_circuit = transpile(circuit, backend_sim)\n",
    "transpiled_circuit.draw('mpl', style=\"iqp\")\n",
    "\n",
    "# Run the transpiled circuit using the simulated fake backend\n",
    "job = backend_sim.run(transpiled_circuit)\n",
    "counts = job.result().get_counts()\n",
    "plot_histogram(counts)"
   ]
  },
  {
   "cell_type": "code",
   "execution_count": 18,
   "metadata": {},
   "outputs": [
    {
     "name": "stdout",
     "output_type": "stream",
     "text": [
      "Operator([[ 0.70710678+0.00000000e+00j,  0.70710678-8.65956056e-17j,\n",
      "            0.        +0.00000000e+00j,  0.        +0.00000000e+00j],\n",
      "          [ 0.        +0.00000000e+00j,  0.        +0.00000000e+00j,\n",
      "            0.70710678+0.00000000e+00j, -0.70710678+8.65956056e-17j],\n",
      "          [ 0.        +0.00000000e+00j,  0.        +0.00000000e+00j,\n",
      "            0.70710678+0.00000000e+00j,  0.70710678-8.65956056e-17j],\n",
      "          [ 0.70710678+0.00000000e+00j, -0.70710678+8.65956056e-17j,\n",
      "            0.        +0.00000000e+00j,  0.        +0.00000000e+00j]],\n",
      "         input_dims=(2, 2), output_dims=(2, 2))\n"
     ]
    }
   ],
   "source": [
    "from qiskit import QuantumCircuit, transpile\n",
    "from qiskit_aer import AerSimulator\n",
    "import numpy as np\n",
    "\n",
    "\n",
    "# Construct quantum circuit without measure\n",
    "circ = QuantumCircuit(2)\n",
    "circ.h(0)\n",
    "circ.cx(0, 1)\n",
    "circ.save_unitary()\n",
    "\n",
    "# Transpile for simulator\n",
    "simulator = AerSimulator(method = 'unitary')\n",
    "circ = transpile(circ, simulator)\n",
    "\n",
    "# Run and get unitary\n",
    "result = simulator.run(circ).result()\n",
    "result.get_unitary()"
   ]
  },
  {
   "cell_type": "code",
   "execution_count": 22,
   "metadata": {},
   "outputs": [
    {
     "data": {
      "text/plain": [
       "('CPU',)"
      ]
     },
     "execution_count": 22,
     "metadata": {},
     "output_type": "execute_result"
    }
   ],
   "source": [
    "AerSimulator().available_devices()"
   ]
  },
  {
   "cell_type": "code",
   "execution_count": 11,
   "metadata": {},
   "outputs": [
    {
     "name": "stdout",
     "output_type": "stream",
     "text": [
      "True\n"
     ]
    }
   ],
   "source": [
    "from pytket import Circuit\n",
    "from pytket._tket.circuit import Command\n",
    "from pytket import OpType\n",
    "from pytket.circuit import Op, QControlBox\n",
    "\n",
    "qc = Circuit(4, 4)\n",
    "\n",
    "x = Op.create(OpType.X)\n",
    "mcx = QControlBox(x, 2)\n",
    "\n",
    "# Add qcontrolbox\n",
    "qc.add_qcontrolbox(mcx, [0, 1, 2])\n",
    "\n",
    "for gate in qc:\n",
    "    print(isinstance(gate.op, QControlBox))"
   ]
  },
  {
   "cell_type": "code",
   "execution_count": 2,
   "metadata": {},
   "outputs": [
    {
     "data": {
      "text/plain": [
       "'Aloha'"
      ]
     },
     "execution_count": 2,
     "metadata": {},
     "output_type": "execute_result"
    }
   ],
   "source": [
    "class Aloha:\n",
    "    @property\n",
    "    def name(self):\n",
    "        return str(self.__class__.__name__)\n",
    "\n",
    "alp = Aloha()\n",
    "alp.name"
   ]
  },
  {
   "cell_type": "code",
   "execution_count": null,
   "metadata": {},
   "outputs": [],
   "source": []
  }
 ],
 "metadata": {
  "kernelspec": {
   "display_name": ".venv",
   "language": "python",
   "name": "python3"
  },
  "language_info": {
   "codemirror_mode": {
    "name": "ipython",
    "version": 3
   },
   "file_extension": ".py",
   "mimetype": "text/x-python",
   "name": "python",
   "nbconvert_exporter": "python",
   "pygments_lexer": "ipython3",
   "version": "3.11.9"
  }
 },
 "nbformat": 4,
 "nbformat_minor": 2
}
