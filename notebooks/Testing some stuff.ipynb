{
 "cells": [
  {
   "cell_type": "code",
   "execution_count": 1,
   "metadata": {},
   "outputs": [],
   "source": [
    "import sys\n",
    "sys.path.append(\"/home/ace07/Documents/GitHub/QICKIT\")"
   ]
  },
  {
   "cell_type": "code",
   "execution_count": 3,
   "metadata": {},
   "outputs": [],
   "source": [
    "from qickit.circuit import QiskitCircuit, CirqCircuit, PennylaneCircuit, TKETCircuit"
   ]
  },
  {
   "cell_type": "code",
   "execution_count": 6,
   "metadata": {},
   "outputs": [
    {
     "data": {
      "text/plain": [
       "'Circuit(num_qubits=2)'"
      ]
     },
     "execution_count": 6,
     "metadata": {},
     "output_type": "execute_result"
    }
   ],
   "source": [
    "# Define the circuits\n",
    "cirq_circuit = CirqCircuit(2)\n",
    "pennylane_circuit = PennylaneCircuit(2)\n",
    "qiskit_circuit = QiskitCircuit(2)\n",
    "tket_circuit = TKETCircuit(2)\n",
    "\n",
    "# Define the Bell state\n",
    "cirq_circuit.H(0)\n",
    "cirq_circuit.CX(0, 1)\n",
    "\n",
    "pennylane_circuit.H(0)\n",
    "pennylane_circuit.CX(0, 1)\n",
    "\n",
    "qiskit_circuit.H(0)\n",
    "qiskit_circuit.CX(0, 1)\n",
    "\n",
    "tket_circuit.H(0)\n",
    "tket_circuit.CX(0, 1)\n",
    "\n",
    "repr(cirq_circuit)"
   ]
  },
  {
   "cell_type": "code",
   "execution_count": 3,
   "metadata": {},
   "outputs": [],
   "source": [
    "qc = QiskitCircuit(4, 4)\n",
    "\n",
    "qc.MCX([0, 1], [2, 3])\n",
    "\n",
    "# unitary = qc.get_unitary()"
   ]
  },
  {
   "cell_type": "code",
   "execution_count": 4,
   "metadata": {},
   "outputs": [
    {
     "data": {
      "text/plain": [
       "189"
      ]
     },
     "execution_count": 4,
     "metadata": {},
     "output_type": "execute_result"
    }
   ],
   "source": [
    "qc.transpile()\n",
    "\n",
    "qc.get_depth()"
   ]
  },
  {
   "cell_type": "code",
   "execution_count": 14,
   "metadata": {},
   "outputs": [],
   "source": [
    "from qiskit import transpile\n",
    "\n",
    "new_qc = transpile(qc.circuit, basis_gates=['cx', 'u3'], optimization_level=3)"
   ]
  },
  {
   "cell_type": "code",
   "execution_count": 15,
   "metadata": {},
   "outputs": [
    {
     "data": {
      "text/plain": [
       "176"
      ]
     },
     "execution_count": 15,
     "metadata": {},
     "output_type": "execute_result"
    }
   ],
   "source": [
    "new_qc.depth()"
   ]
  },
  {
   "cell_type": "code",
   "execution_count": 3,
   "metadata": {},
   "outputs": [
    {
     "data": {
      "text/plain": [
       "21"
      ]
     },
     "execution_count": 3,
     "metadata": {},
     "output_type": "execute_result"
    }
   ],
   "source": [
    "from qiskit import QuantumCircuit, transpile\n",
    "from qiskit.quantum_info import Operator\n",
    "from qiskit.circuit.library import GlobalPhaseGate\n",
    "\n",
    "\n",
    "qc_qiskit = QuantumCircuit(4, 4)\n",
    "\n",
    "qc_qiskit.mcx([0, 1], 2)\n",
    "qc_qiskit.mcx([0, 1], 3)\n",
    "\n",
    "transpiled_qc = transpile(qc_qiskit,\n",
    "                          basis_gates=['u3', 'cx'],\n",
    "                          optimization_level=3,\n",
    "                          seed_transpiler=0)\n",
    "\n",
    "transpiled_qc.depth()"
   ]
  },
  {
   "cell_type": "code",
   "execution_count": 1,
   "metadata": {},
   "outputs": [
    {
     "name": "stdout",
     "output_type": "stream",
     "text": [
      "Operator([[ 0.70710678+0.00000000e+00j,  0.70710678-8.65956056e-17j,\n",
      "            0.        +0.00000000e+00j,  0.        +0.00000000e+00j],\n",
      "          [ 0.        +0.00000000e+00j,  0.        +0.00000000e+00j,\n",
      "            0.70710678+0.00000000e+00j, -0.70710678+8.65956056e-17j],\n",
      "          [ 0.        +0.00000000e+00j,  0.        +0.00000000e+00j,\n",
      "            0.70710678+0.00000000e+00j,  0.70710678-8.65956056e-17j],\n",
      "          [ 0.70710678+0.00000000e+00j, -0.70710678+8.65956056e-17j,\n",
      "            0.        +0.00000000e+00j,  0.        +0.00000000e+00j]],\n",
      "         input_dims=(2, 2), output_dims=(2, 2))\n"
     ]
    }
   ],
   "source": [
    "from qiskit import QuantumCircuit, transpile\n",
    "from qiskit_aer import AerSimulator\n",
    "import numpy as np\n",
    "\n",
    "\n",
    "# Construct quantum circuit without measure\n",
    "circ = QuantumCircuit(2)\n",
    "circ.h(0)\n",
    "circ.cx(0, 1)\n",
    "circ.save_unitary()\n",
    "\n",
    "# Transpile for simulator\n",
    "simulator = AerSimulator(method = 'unitary')\n",
    "circ = transpile(circ, simulator)\n",
    "\n",
    "# Run and get unitary\n",
    "result = simulator.run(circ).result()\n",
    "result.get_unitary()"
   ]
  },
  {
   "cell_type": "code",
   "execution_count": 11,
   "metadata": {},
   "outputs": [
    {
     "name": "stdout",
     "output_type": "stream",
     "text": [
      "True\n"
     ]
    }
   ],
   "source": [
    "from pytket import Circuit\n",
    "from pytket._tket.circuit import Command\n",
    "from pytket import OpType\n",
    "from pytket.circuit import Op, QControlBox\n",
    "\n",
    "qc = Circuit(4, 4)\n",
    "\n",
    "x = Op.create(OpType.X)\n",
    "mcx = QControlBox(x, 2)\n",
    "\n",
    "# Add qcontrolbox\n",
    "qc.add_qcontrolbox(mcx, [0, 1, 2])\n",
    "\n",
    "for gate in qc:\n",
    "    print(isinstance(gate.op, QControlBox))"
   ]
  },
  {
   "cell_type": "code",
   "execution_count": 13,
   "metadata": {},
   "outputs": [
    {
     "name": "stdout",
     "output_type": "stream",
     "text": [
      "{1: 518, 0: 482}\n"
     ]
    },
    {
     "data": {
      "text/plain": [
       "{'00': 0, '01': 0}"
      ]
     },
     "execution_count": 13,
     "metadata": {},
     "output_type": "execute_result"
    }
   ],
   "source": [
    "import cirq\n",
    "from cirq.ops import I, H\n",
    "\n",
    "qr = cirq.LineQubit.range(2)\n",
    "cirq_circuit = cirq.Circuit(H(qr[1]),\n",
    "                            cirq.measure(qr[1], key=\"meas\"))\n",
    "\n",
    "simulator = cirq.Simulator()\n",
    "result = simulator.run(cirq_circuit, repetitions=1000)\n",
    "counts = dict(result.histogram(key=\"meas\"))\n",
    "\n",
    "counts = {format(int(index),\"0{}b\".format(2)): int(counts[str(index)]) if str(index) in counts else 0 for index in range(2)}\n",
    "counts\n"
   ]
  },
  {
   "cell_type": "code",
   "execution_count": 30,
   "metadata": {},
   "outputs": [
    {
     "data": {
      "text/plain": [
       "[cirq.I(cirq.LineQubit(0)),\n",
       " cirq.measure(cirq.LineQubit(0), cirq.LineQubit(1), key=cirq.MeasurementKey(name='meas'))]"
      ]
     },
     "execution_count": 30,
     "metadata": {},
     "output_type": "execute_result"
    }
   ],
   "source": [
    "list(cirq_circuit.all_operations())"
   ]
  },
  {
   "cell_type": "code",
   "execution_count": 14,
   "metadata": {},
   "outputs": [],
   "source": [
    "from qiskit import QuantumCircuit\n",
    "from qiskit_aer.aerprovider import AerSimulator # type: ignore\n",
    "\n",
    "qc = QuantumCircuit(5, 5)\n",
    "\n",
    "qc.h(0)\n",
    "qc.cx(0, 1)\n",
    "qc.cx(1, 2)\n",
    "\n",
    "qc.measure([0, 1, 4], [0, 1, 4])\n",
    "\n",
    "backend = AerSimulator()\n",
    "result = backend.run(qc).result()"
   ]
  },
  {
   "cell_type": "code",
   "execution_count": 16,
   "metadata": {},
   "outputs": [
    {
     "data": {
      "text/plain": [
       "{'00000': 500, '00011': 524}"
      ]
     },
     "execution_count": 16,
     "metadata": {},
     "output_type": "execute_result"
    }
   ],
   "source": [
    "result.get_counts()"
   ]
  },
  {
   "cell_type": "code",
   "execution_count": 70,
   "metadata": {},
   "outputs": [
    {
     "data": {
      "text/plain": [
       "{'0': 55, '1': 45}"
      ]
     },
     "execution_count": 70,
     "metadata": {},
     "output_type": "execute_result"
    }
   ],
   "source": [
    "import numpy as np\n",
    "import cirq\n",
    "\n",
    "circuit = cirq.Circuit()\n",
    "qubits = cirq.LineQubit.range(3)\n",
    "circuit.append(cirq.H(qubits[0]))\n",
    "circuit.append(cirq.CNOT(qubits[0], qubits[1]))\n",
    "circuit.append(cirq.CNOT(qubits[1], qubits[2]))\n",
    "circuit.append(cirq.measure(qubits[0], key='q0'))\n",
    "# circuit.append(cirq.measure(qubits[1], key='q1'))\n",
    "# circuit.append(cirq.measure(qubits[2], key='q2'))\n",
    "\n",
    "simulator = cirq.Simulator()\n",
    "result = simulator.run(circuit, repetitions=100)\n",
    "result = result.multi_measurement_histogram(keys=['q0'])\n",
    "result = dict(result)\n",
    "binary_result = {''.join(map(str, key)): value for key, value in result.items()}\n",
    "binary_result"
   ]
  },
  {
   "cell_type": "code",
   "execution_count": 3,
   "metadata": {},
   "outputs": [
    {
     "name": "stdout",
     "output_type": "stream",
     "text": [
      "True\n"
     ]
    }
   ],
   "source": [
    "a = [1, \"a\", 3]\n",
    "print(any(not isinstance(i, int) for i in a))"
   ]
  },
  {
   "cell_type": "code",
   "execution_count": 1,
   "metadata": {},
   "outputs": [],
   "source": [
    "import sys\n",
    "sys.path.append(\"/home/ace07/Documents/GitHub/QICKIT\")"
   ]
  },
  {
   "cell_type": "code",
   "execution_count": 2,
   "metadata": {},
   "outputs": [],
   "source": [
    "from qickit.data import Data"
   ]
  },
  {
   "cell_type": "code",
   "execution_count": 3,
   "metadata": {},
   "outputs": [
    {
     "ename": "TypeError",
     "evalue": "Cannot handle this data type: (1, 1), <i8",
     "output_type": "error",
     "traceback": [
      "\u001b[0;31m---------------------------------------------------------------------------\u001b[0m",
      "\u001b[0;31mKeyError\u001b[0m                                  Traceback (most recent call last)",
      "File \u001b[0;32m~/Documents/GitHub/QICKIT/.venv/lib/python3.11/site-packages/PIL/Image.py:3130\u001b[0m, in \u001b[0;36mfromarray\u001b[0;34m(obj, mode)\u001b[0m\n\u001b[1;32m   3129\u001b[0m \u001b[38;5;28;01mtry\u001b[39;00m:\n\u001b[0;32m-> 3130\u001b[0m     mode, rawmode \u001b[38;5;241m=\u001b[39m \u001b[43m_fromarray_typemap\u001b[49m\u001b[43m[\u001b[49m\u001b[43mtypekey\u001b[49m\u001b[43m]\u001b[49m\n\u001b[1;32m   3131\u001b[0m \u001b[38;5;28;01mexcept\u001b[39;00m \u001b[38;5;167;01mKeyError\u001b[39;00m \u001b[38;5;28;01mas\u001b[39;00m e:\n",
      "\u001b[0;31mKeyError\u001b[0m: ((1, 1), '<i8')",
      "\nThe above exception was the direct cause of the following exception:\n",
      "\u001b[0;31mTypeError\u001b[0m                                 Traceback (most recent call last)",
      "Cell \u001b[0;32mIn[3], line 3\u001b[0m\n\u001b[1;32m      1\u001b[0m matrix \u001b[38;5;241m=\u001b[39m Data([[\u001b[38;5;241m1\u001b[39m, \u001b[38;5;241m2\u001b[39m, \u001b[38;5;241m3\u001b[39m], [\u001b[38;5;241m4\u001b[39m, \u001b[38;5;241m5\u001b[39m, \u001b[38;5;241m6\u001b[39m]])\n\u001b[0;32m----> 3\u001b[0m \u001b[43mmatrix\u001b[49m\u001b[38;5;241;43m.\u001b[39;49m\u001b[43mpad\u001b[49m\u001b[43m(\u001b[49m\u001b[43m)\u001b[49m\n",
      "File \u001b[0;32m~/Documents/GitHub/QICKIT/qickit/data/data.py:356\u001b[0m, in \u001b[0;36mData.pad\u001b[0;34m(self)\u001b[0m\n\u001b[1;32m    353\u001b[0m     \u001b[38;5;28;01mreturn\u001b[39;00m\n\u001b[1;32m    355\u001b[0m \u001b[38;5;66;03m# Pad the data\u001b[39;00m\n\u001b[0;32m--> 356\u001b[0m \u001b[38;5;28mself\u001b[39m\u001b[38;5;241m.\u001b[39mdata, \u001b[38;5;28mself\u001b[39m\u001b[38;5;241m.\u001b[39mshape \u001b[38;5;241m=\u001b[39m \u001b[38;5;28;43mself\u001b[39;49m\u001b[38;5;241;43m.\u001b[39;49m\u001b[43mpad_data\u001b[49m\u001b[43m(\u001b[49m\u001b[38;5;28;43mself\u001b[39;49m\u001b[38;5;241;43m.\u001b[39;49m\u001b[43mdata\u001b[49m\u001b[43m)\u001b[49m\n\u001b[1;32m    358\u001b[0m \u001b[38;5;66;03m# Set padded to True\u001b[39;00m\n\u001b[1;32m    359\u001b[0m \u001b[38;5;28mself\u001b[39m\u001b[38;5;241m.\u001b[39mpadded \u001b[38;5;241m=\u001b[39m \u001b[38;5;28;01mTrue\u001b[39;00m\n",
      "File \u001b[0;32m~/Documents/GitHub/QICKIT/qickit/data/data.py:322\u001b[0m, in \u001b[0;36mData.pad_data\u001b[0;34m(data)\u001b[0m\n\u001b[1;32m    318\u001b[0m         rows \u001b[38;5;241m=\u001b[39m \u001b[38;5;28mint\u001b[39m(np\u001b[38;5;241m.\u001b[39mdivide(target_size, cols))\n\u001b[1;32m    320\u001b[0m     \u001b[38;5;66;03m# If we cannot pad, we stretch the whole matrix to the\u001b[39;00m\n\u001b[1;32m    321\u001b[0m     \u001b[38;5;66;03m# nearest power of 2\u001b[39;00m\n\u001b[0;32m--> 322\u001b[0m     resized_data \u001b[38;5;241m=\u001b[39m np\u001b[38;5;241m.\u001b[39masarray(\u001b[43mImg\u001b[49m\u001b[38;5;241;43m.\u001b[39;49m\u001b[43mfromarray\u001b[49m\u001b[43m(\u001b[49m\u001b[43mdata\u001b[49m\u001b[43m)\u001b[49m\u001b[38;5;241m.\u001b[39mresize((cols, rows), \u001b[38;5;241m0\u001b[39m))\n\u001b[1;32m    324\u001b[0m     \u001b[38;5;28;01mreturn\u001b[39;00m resized_data, resized_data\u001b[38;5;241m.\u001b[39mshape\n\u001b[1;32m    326\u001b[0m \u001b[38;5;66;03m# Ensure the target rows and columns are int type\u001b[39;00m\n",
      "File \u001b[0;32m~/Documents/GitHub/QICKIT/.venv/lib/python3.11/site-packages/PIL/Image.py:3134\u001b[0m, in \u001b[0;36mfromarray\u001b[0;34m(obj, mode)\u001b[0m\n\u001b[1;32m   3132\u001b[0m         typekey_shape, typestr \u001b[38;5;241m=\u001b[39m typekey\n\u001b[1;32m   3133\u001b[0m         msg \u001b[38;5;241m=\u001b[39m \u001b[38;5;124mf\u001b[39m\u001b[38;5;124m\"\u001b[39m\u001b[38;5;124mCannot handle this data type: \u001b[39m\u001b[38;5;132;01m{\u001b[39;00mtypekey_shape\u001b[38;5;132;01m}\u001b[39;00m\u001b[38;5;124m, \u001b[39m\u001b[38;5;132;01m{\u001b[39;00mtypestr\u001b[38;5;132;01m}\u001b[39;00m\u001b[38;5;124m\"\u001b[39m\n\u001b[0;32m-> 3134\u001b[0m         \u001b[38;5;28;01mraise\u001b[39;00m \u001b[38;5;167;01mTypeError\u001b[39;00m(msg) \u001b[38;5;28;01mfrom\u001b[39;00m \u001b[38;5;21;01me\u001b[39;00m\n\u001b[1;32m   3135\u001b[0m \u001b[38;5;28;01melse\u001b[39;00m:\n\u001b[1;32m   3136\u001b[0m     rawmode \u001b[38;5;241m=\u001b[39m mode\n",
      "\u001b[0;31mTypeError\u001b[0m: Cannot handle this data type: (1, 1), <i8"
     ]
    }
   ],
   "source": [
    "matrix = Data([[1, 2, 3], [4, 5, 6]])\n",
    "\n",
    "matrix.pad()"
   ]
  },
  {
   "cell_type": "code",
   "execution_count": 10,
   "metadata": {},
   "outputs": [
    {
     "name": "stdout",
     "output_type": "stream",
     "text": [
      "True\n"
     ]
    }
   ],
   "source": [
    "import numpy as np\n",
    "\n",
    "a = [[1, 2], [3, 4]]\n",
    "\n",
    "b = np.array(a)\n",
    "\n",
    "print(bool(np.all(b == a)))"
   ]
  },
  {
   "cell_type": "code",
   "execution_count": 11,
   "metadata": {},
   "outputs": [
    {
     "name": "stdout",
     "output_type": "stream",
     "text": [
      "[[1, 2], [3, 4]]\n",
      "[[1 2]\n",
      " [3 4]]\n"
     ]
    }
   ],
   "source": [
    "print(a)\n",
    "print(b)"
   ]
  },
  {
   "cell_type": "code",
   "execution_count": 13,
   "metadata": {},
   "outputs": [
    {
     "name": "stdout",
     "output_type": "stream",
     "text": [
      "True\n"
     ]
    }
   ],
   "source": [
    "a = np.int64(1)\n",
    "b = np.float128(1)\n",
    "\n",
    "print(a == b)"
   ]
  },
  {
   "cell_type": "code",
   "execution_count": null,
   "metadata": {},
   "outputs": [],
   "source": []
  }
 ],
 "metadata": {
  "kernelspec": {
   "display_name": ".venv",
   "language": "python",
   "name": "python3"
  },
  "language_info": {
   "codemirror_mode": {
    "name": "ipython",
    "version": 3
   },
   "file_extension": ".py",
   "mimetype": "text/x-python",
   "name": "python",
   "nbconvert_exporter": "python",
   "pygments_lexer": "ipython3",
   "version": "3.11.9"
  }
 },
 "nbformat": 4,
 "nbformat_minor": 2
}
