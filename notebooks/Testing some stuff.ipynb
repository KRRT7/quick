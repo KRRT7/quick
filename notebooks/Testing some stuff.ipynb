{
 "cells": [
  {
   "cell_type": "code",
   "execution_count": 1,
   "metadata": {},
   "outputs": [],
   "source": [
    "import sys\n",
    "sys.path.append(\"/home/ace07/Documents/GitHub/QICKIT\")"
   ]
  },
  {
   "cell_type": "code",
   "execution_count": 3,
   "metadata": {},
   "outputs": [],
   "source": [
    "from qickit.circuit import QiskitCircuit, CirqCircuit, PennylaneCircuit, TKETCircuit"
   ]
  },
  {
   "cell_type": "code",
   "execution_count": 6,
   "metadata": {},
   "outputs": [
    {
     "data": {
      "text/plain": [
       "'Circuit(num_qubits=2)'"
      ]
     },
     "execution_count": 6,
     "metadata": {},
     "output_type": "execute_result"
    }
   ],
   "source": [
    "# Define the circuits\n",
    "cirq_circuit = CirqCircuit(2)\n",
    "pennylane_circuit = PennylaneCircuit(2)\n",
    "qiskit_circuit = QiskitCircuit(2)\n",
    "tket_circuit = TKETCircuit(2)\n",
    "\n",
    "# Define the Bell state\n",
    "cirq_circuit.H(0)\n",
    "cirq_circuit.CX(0, 1)\n",
    "\n",
    "pennylane_circuit.H(0)\n",
    "pennylane_circuit.CX(0, 1)\n",
    "\n",
    "qiskit_circuit.H(0)\n",
    "qiskit_circuit.CX(0, 1)\n",
    "\n",
    "tket_circuit.H(0)\n",
    "tket_circuit.CX(0, 1)\n",
    "\n",
    "repr(cirq_circuit)"
   ]
  },
  {
   "cell_type": "code",
   "execution_count": 3,
   "metadata": {},
   "outputs": [],
   "source": [
    "qc = QiskitCircuit(4, 4)\n",
    "\n",
    "qc.MCX([0, 1], [2, 3])\n",
    "\n",
    "# unitary = qc.get_unitary()"
   ]
  },
  {
   "cell_type": "code",
   "execution_count": 4,
   "metadata": {},
   "outputs": [
    {
     "data": {
      "text/plain": [
       "189"
      ]
     },
     "execution_count": 4,
     "metadata": {},
     "output_type": "execute_result"
    }
   ],
   "source": [
    "qc.transpile()\n",
    "\n",
    "qc.get_depth()"
   ]
  },
  {
   "cell_type": "code",
   "execution_count": 14,
   "metadata": {},
   "outputs": [],
   "source": [
    "from qiskit import transpile\n",
    "\n",
    "new_qc = transpile(qc.circuit, basis_gates=['cx', 'u3'], optimization_level=3)"
   ]
  },
  {
   "cell_type": "code",
   "execution_count": 15,
   "metadata": {},
   "outputs": [
    {
     "data": {
      "text/plain": [
       "176"
      ]
     },
     "execution_count": 15,
     "metadata": {},
     "output_type": "execute_result"
    }
   ],
   "source": [
    "new_qc.depth()"
   ]
  },
  {
   "cell_type": "code",
   "execution_count": 3,
   "metadata": {},
   "outputs": [
    {
     "data": {
      "text/plain": [
       "21"
      ]
     },
     "execution_count": 3,
     "metadata": {},
     "output_type": "execute_result"
    }
   ],
   "source": [
    "from qiskit import QuantumCircuit, transpile\n",
    "from qiskit.quantum_info import Operator\n",
    "from qiskit.circuit.library import GlobalPhaseGate\n",
    "\n",
    "\n",
    "qc_qiskit = QuantumCircuit(4, 4)\n",
    "\n",
    "qc_qiskit.mcx([0, 1], 2)\n",
    "qc_qiskit.mcx([0, 1], 3)\n",
    "\n",
    "transpiled_qc = transpile(qc_qiskit,\n",
    "                          basis_gates=['u3', 'cx'],\n",
    "                          optimization_level=3,\n",
    "                          seed_transpiler=0)\n",
    "\n",
    "transpiled_qc.depth()"
   ]
  },
  {
   "cell_type": "code",
   "execution_count": 1,
   "metadata": {},
   "outputs": [
    {
     "name": "stdout",
     "output_type": "stream",
     "text": [
      "Operator([[ 0.70710678+0.00000000e+00j,  0.70710678-8.65956056e-17j,\n",
      "            0.        +0.00000000e+00j,  0.        +0.00000000e+00j],\n",
      "          [ 0.        +0.00000000e+00j,  0.        +0.00000000e+00j,\n",
      "            0.70710678+0.00000000e+00j, -0.70710678+8.65956056e-17j],\n",
      "          [ 0.        +0.00000000e+00j,  0.        +0.00000000e+00j,\n",
      "            0.70710678+0.00000000e+00j,  0.70710678-8.65956056e-17j],\n",
      "          [ 0.70710678+0.00000000e+00j, -0.70710678+8.65956056e-17j,\n",
      "            0.        +0.00000000e+00j,  0.        +0.00000000e+00j]],\n",
      "         input_dims=(2, 2), output_dims=(2, 2))\n"
     ]
    }
   ],
   "source": [
    "from qiskit import QuantumCircuit, transpile\n",
    "from qiskit_aer import AerSimulator\n",
    "import numpy as np\n",
    "\n",
    "\n",
    "# Construct quantum circuit without measure\n",
    "circ = QuantumCircuit(2)\n",
    "circ.h(0)\n",
    "circ.cx(0, 1)\n",
    "circ.save_unitary()\n",
    "\n",
    "# Transpile for simulator\n",
    "simulator = AerSimulator(method = 'unitary')\n",
    "circ = transpile(circ, simulator)\n",
    "\n",
    "# Run and get unitary\n",
    "result = simulator.run(circ).result()\n",
    "result.get_unitary()"
   ]
  },
  {
   "cell_type": "code",
   "execution_count": 11,
   "metadata": {},
   "outputs": [
    {
     "name": "stdout",
     "output_type": "stream",
     "text": [
      "True\n"
     ]
    }
   ],
   "source": [
    "from pytket import Circuit\n",
    "from pytket._tket.circuit import Command\n",
    "from pytket import OpType\n",
    "from pytket.circuit import Op, QControlBox\n",
    "\n",
    "qc = Circuit(4, 4)\n",
    "\n",
    "x = Op.create(OpType.X)\n",
    "mcx = QControlBox(x, 2)\n",
    "\n",
    "# Add qcontrolbox\n",
    "qc.add_qcontrolbox(mcx, [0, 1, 2])\n",
    "\n",
    "for gate in qc:\n",
    "    print(isinstance(gate.op, QControlBox))"
   ]
  },
  {
   "cell_type": "code",
   "execution_count": 13,
   "metadata": {},
   "outputs": [
    {
     "name": "stdout",
     "output_type": "stream",
     "text": [
      "{1: 518, 0: 482}\n"
     ]
    },
    {
     "data": {
      "text/plain": [
       "{'00': 0, '01': 0}"
      ]
     },
     "execution_count": 13,
     "metadata": {},
     "output_type": "execute_result"
    }
   ],
   "source": [
    "import cirq\n",
    "from cirq.ops import I, H\n",
    "\n",
    "qr = cirq.LineQubit.range(2)\n",
    "cirq_circuit = cirq.Circuit(H(qr[1]),\n",
    "                            cirq.measure(qr[1], key=\"meas\"))\n",
    "\n",
    "simulator = cirq.Simulator()\n",
    "result = simulator.run(cirq_circuit, repetitions=1000)\n",
    "counts = dict(result.histogram(key=\"meas\"))\n",
    "\n",
    "counts = {format(int(index),\"0{}b\".format(2)): int(counts[str(index)]) if str(index) in counts else 0 for index in range(2)}\n",
    "counts\n"
   ]
  },
  {
   "cell_type": "code",
   "execution_count": 30,
   "metadata": {},
   "outputs": [
    {
     "data": {
      "text/plain": [
       "[cirq.I(cirq.LineQubit(0)),\n",
       " cirq.measure(cirq.LineQubit(0), cirq.LineQubit(1), key=cirq.MeasurementKey(name='meas'))]"
      ]
     },
     "execution_count": 30,
     "metadata": {},
     "output_type": "execute_result"
    }
   ],
   "source": [
    "list(cirq_circuit.all_operations())"
   ]
  },
  {
   "cell_type": "code",
   "execution_count": 14,
   "metadata": {},
   "outputs": [],
   "source": [
    "from qiskit import QuantumCircuit\n",
    "from qiskit_aer.aerprovider import AerSimulator # type: ignore\n",
    "\n",
    "qc = QuantumCircuit(5, 5)\n",
    "\n",
    "qc.h(0)\n",
    "qc.cx(0, 1)\n",
    "qc.cx(1, 2)\n",
    "\n",
    "qc.measure([0, 1, 4], [0, 1, 4])\n",
    "\n",
    "backend = AerSimulator()\n",
    "result = backend.run(qc).result()"
   ]
  },
  {
   "cell_type": "code",
   "execution_count": 16,
   "metadata": {},
   "outputs": [
    {
     "data": {
      "text/plain": [
       "{'00000': 500, '00011': 524}"
      ]
     },
     "execution_count": 16,
     "metadata": {},
     "output_type": "execute_result"
    }
   ],
   "source": [
    "result.get_counts()"
   ]
  },
  {
   "cell_type": "code",
   "execution_count": 70,
   "metadata": {},
   "outputs": [
    {
     "data": {
      "text/plain": [
       "{'0': 55, '1': 45}"
      ]
     },
     "execution_count": 70,
     "metadata": {},
     "output_type": "execute_result"
    }
   ],
   "source": [
    "import numpy as np\n",
    "import cirq\n",
    "\n",
    "circuit = cirq.Circuit()\n",
    "qubits = cirq.LineQubit.range(3)\n",
    "circuit.append(cirq.H(qubits[0]))\n",
    "circuit.append(cirq.CNOT(qubits[0], qubits[1]))\n",
    "circuit.append(cirq.CNOT(qubits[1], qubits[2]))\n",
    "circuit.append(cirq.measure(qubits[0], key='q0'))\n",
    "# circuit.append(cirq.measure(qubits[1], key='q1'))\n",
    "# circuit.append(cirq.measure(qubits[2], key='q2'))\n",
    "\n",
    "simulator = cirq.Simulator()\n",
    "result = simulator.run(circuit, repetitions=100)\n",
    "result = result.multi_measurement_histogram(keys=['q0'])\n",
    "result = dict(result)\n",
    "binary_result = {''.join(map(str, key)): value for key, value in result.items()}\n",
    "binary_result"
   ]
  },
  {
   "cell_type": "code",
   "execution_count": 1,
   "metadata": {},
   "outputs": [],
   "source": [
    "import sys\n",
    "sys.path.append(\"/home/ace07/Documents/GitHub/QICKIT\")"
   ]
  },
  {
   "cell_type": "code",
   "execution_count": 2,
   "metadata": {},
   "outputs": [],
   "source": [
    "from qickit.backend import FakeIBMBackend\n",
    "from qickit.circuit import CirqCircuit\n",
    "from qiskit_ibm_runtime import QiskitRuntimeService # type: ignore"
   ]
  },
  {
   "cell_type": "code",
   "execution_count": 4,
   "metadata": {},
   "outputs": [],
   "source": [
    "service = QiskitRuntimeService(token=\"1e179eb7ed08178c1d0c10304bd10d8ebe9201b356c674fbb0c5ec2345c9935316662ac6d9a6c4d2d6e9af7a8b0d128e9c3502bb926b545b0b5069128d95fb9f\",\n",
    "                               channel=\"ibm_quantum\")\n",
    "\n",
    "backend = FakeIBMBackend(hardware_name=\"ibm_sherbrooke\",\n",
    "                         qiskit_runtime=service)\n",
    "\n",
    "circ = CirqCircuit(2)\n",
    "circ.H(0)\n",
    "circ.CX(0, 1)\n",
    "circ.measure_all()\n",
    "\n",
    "result_counts = backend.get_counts(circ)"
   ]
  },
  {
   "cell_type": "code",
   "execution_count": 10,
   "metadata": {},
   "outputs": [
    {
     "data": {
      "text/plain": [
       "{1: 0.0263671875, 3: 0.484375, 2: 0.0185546875, 0: 0.470703125}"
      ]
     },
     "execution_count": 10,
     "metadata": {},
     "output_type": "execute_result"
    }
   ],
   "source": [
    "result_counts.result().quasi_dists[0]"
   ]
  },
  {
   "cell_type": "code",
   "execution_count": null,
   "metadata": {},
   "outputs": [],
   "source": [
    "{1: 0.0263671875, 3: 0.484375, 2: 0.0185546875, 0: 0.470703125}"
   ]
  }
 ],
 "metadata": {
  "kernelspec": {
   "display_name": ".venv",
   "language": "python",
   "name": "python3"
  },
  "language_info": {
   "codemirror_mode": {
    "name": "ipython",
    "version": 3
   },
   "file_extension": ".py",
   "mimetype": "text/x-python",
   "name": "python",
   "nbconvert_exporter": "python",
   "pygments_lexer": "ipython3",
   "version": "3.11.9"
  }
 },
 "nbformat": 4,
 "nbformat_minor": 2
}
