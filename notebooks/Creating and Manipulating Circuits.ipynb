{
 "cells": [
  {
   "cell_type": "markdown",
   "metadata": {},
   "source": [
    "Add the package to the path."
   ]
  },
  {
   "cell_type": "code",
   "execution_count": 1,
   "metadata": {},
   "outputs": [],
   "source": [
    "import sys\n",
    "sys.path.append(\"C:/Users/A.C.EA/Documents/GitHub/QICKIT/\")"
   ]
  },
  {
   "cell_type": "markdown",
   "metadata": {},
   "source": [
    "Import `qickit` modules. For this demo, we will import the circuit instances."
   ]
  },
  {
   "cell_type": "code",
   "execution_count": 2,
   "metadata": {},
   "outputs": [],
   "source": [
    "from qickit.circuit import QiskitCircuit, PennylaneCircuit, CirqCircuit, TKETCircuit"
   ]
  },
  {
   "cell_type": "markdown",
   "metadata": {},
   "source": [
    "We will also import some basic modules for angle calculations."
   ]
  },
  {
   "cell_type": "code",
   "execution_count": 3,
   "metadata": {},
   "outputs": [],
   "source": [
    "import numpy as np"
   ]
  },
  {
   "cell_type": "markdown",
   "metadata": {},
   "source": [
    "### Circuits Demo : Creating and manipulating quantum circuits\n",
    "\n",
    "This notebook is dedicated to the demonstration of how `qickit` can be used to create gate-based quantum circuits. In this notebook, we go over all of the currently available frameworks, and how our `Circuit` wrapper provides a consistent interface for accessing all of these frameworks."
   ]
  },
  {
   "cell_type": "markdown",
   "metadata": {},
   "source": [
    "To create circuits using our circuit wrapper instances such as `QiskitCircuit` and `CirqCircuit`, you simply define an instance, and then use the same syntax as outlined in the documentation to create a circuit. With our wrappers, you can create circuits in any package using a single syntax, and actively convert to and back from different frameworks in our supported list, allowing you to get the best out of all the packages and use any backend you desire."
   ]
  },
  {
   "cell_type": "code",
   "execution_count": 4,
   "metadata": {},
   "outputs": [
    {
     "name": "stderr",
     "output_type": "stream",
     "text": [
      "C:\\Users\\A.C.EA\\AppData\\Local\\Packages\\PythonSoftwareFoundation.Python.3.11_qbz5n2kfra8p0\\LocalCache\\local-packages\\Python311\\site-packages\\qiskit\\visualization\\circuit\\matplotlib.py:266: FutureWarning: The default matplotlib drawer scheme will be changed to \"iqp\" in a following release. To silence this warning, specify the current default explicitly as style=\"clifford\", or the new default as style=\"iqp\".\n",
      "  self._style, def_font_ratio = load_style(self._style)\n"
     ]
    },
    {
     "data": {
      "image/png": "[encoded data removed]",
      "text/plain": [
       "<Figure size 305.727x451.5 with 1 Axes>"
      ]
     },
     "execution_count": 4,
     "metadata": {},
     "output_type": "execute_result"
    }
   ],
   "source": [
    "# Create a circuit\n",
    "test_qc = QiskitCircuit(4, 4)\n",
    "\n",
    "# Apply a Hadamard gate to qubit 0\n",
    "test_qc.H(0)\n",
    "# Apply a CX gate to qubit 1 controlled by 0\n",
    "test_qc.CX(0, 1)\n",
    "\n",
    "# Draw the circuit\n",
    "test_qc.draw()"
   ]
  },
  {
   "cell_type": "code",
   "execution_count": 5,
   "metadata": {},
   "outputs": [
    {
     "data": {
      "image/png": "[encoded data removed]",
      "text/plain": [
       "<Figure size 389.54x451.5 with 1 Axes>"
      ]
     },
     "execution_count": 5,
     "metadata": {},
     "output_type": "execute_result"
    }
   ],
   "source": [
    "# Defining two circuits\n",
    "test_qc1 = QiskitCircuit(4, 4)\n",
    "test_qc2 = QiskitCircuit(4, 4)\n",
    "\n",
    "# QC 1 provides a CX on qubits 1 and 2\n",
    "test_qc1.CX(1, 2)\n",
    "\n",
    "# QC 2 provides a Hadamard on qubit 1, and a CX on qubits 0 and 1\n",
    "test_qc2.H(1)\n",
    "test_qc2.CX(0, 1)\n",
    "test_qc2.RX(np.pi/2, 0)\n",
    "\n",
    "# We apply a horizontal_reverse, effectively switching the places for QC 2\n",
    "test_qc2.horizontal_reverse(adjoint=True)\n",
    "\n",
    "# We add the two circuits together\n",
    "test_qc1.add(test_qc2, range(4))\n",
    "\n",
    "test_qc1.draw()"
   ]
  },
  {
   "cell_type": "markdown",
   "metadata": {},
   "source": [
    "### How to convert between the frameworks?\n",
    "\n",
    "When converting to a different framework, you simply call the built-in method `.convert(other_framework)` allowing you to convert back and forth."
   ]
  },
  {
   "cell_type": "code",
   "execution_count": 6,
   "metadata": {},
   "outputs": [
    {
     "name": "stdout",
     "output_type": "stream",
     "text": [
      "0: ───Rx(-0.5π)───@───────\n",
      "                  │\n",
      "1: ───@───────────X───H───\n",
      "      │\n",
      "2: ───X───────────────────\n"
     ]
    }
   ],
   "source": [
    "# Define a new circuit for the converted version\n",
    "new_qc = test_qc1.convert(CirqCircuit)\n",
    "\n",
    "new_qc.draw()"
   ]
  },
  {
   "cell_type": "markdown",
   "metadata": {},
   "source": [
    "With existing intermediate frameworks like QASM 2.0, we also provide support for converting arbitrary frameworks to QASM 2.0 strings."
   ]
  },
  {
   "cell_type": "code",
   "execution_count": 7,
   "metadata": {},
   "outputs": [
    {
     "data": {
      "text/plain": [
       "'OPENQASM 2.0;\\ninclude \"qelib1.inc\";\\nqreg q5[4];\\ncreg c4[4];\\ncx q5[1],q5[2];\\nrx(-pi/2) q5[0];\\ncx q5[0],q5[1];\\nh q5[1];\\n'"
      ]
     },
     "execution_count": 7,
     "metadata": {},
     "output_type": "execute_result"
    }
   ],
   "source": [
    "qasm_str = test_qc1.to_qasm()\n",
    "\n",
    "qasm_str"
   ]
  },
  {
   "cell_type": "markdown",
   "metadata": {},
   "source": [
    "#### How to run circuits?\n",
    "\n",
    "When running the circuits, you can choose between the state vector or shots based measurement methods."
   ]
  },
  {
   "cell_type": "code",
   "execution_count": 8,
   "metadata": {},
   "outputs": [
    {
     "data": {
      "text/plain": [
       "array([ 0.5,  0.5,  0.5, -0.5,  0. ,  0. ,  0. ,  0. ,  0. ,  0. ,  0. ,\n",
       "        0. ,  0. ,  0. ,  0. ,  0. ])"
      ]
     },
     "execution_count": 8,
     "metadata": {},
     "output_type": "execute_result"
    }
   ],
   "source": [
    "new_qc.get_statevector()"
   ]
  },
  {
   "cell_type": "code",
   "execution_count": 9,
   "metadata": {},
   "outputs": [
    {
     "data": {
      "text/plain": [
       "{'0000': 256.0,\n",
       " '0001': 256.0,\n",
       " '0010': 256.0,\n",
       " '0011': 256.0,\n",
       " '0100': 0.0,\n",
       " '0101': 0.0,\n",
       " '0110': 0.0,\n",
       " '0111': 0.0,\n",
       " '1000': 0.0,\n",
       " '1001': 0.0,\n",
       " '1010': 0.0,\n",
       " '1011': 0.0,\n",
       " '1100': 0.0,\n",
       " '1101': 0.0,\n",
       " '1110': 0.0,\n",
       " '1111': 0.0}"
      ]
     },
     "execution_count": 9,
     "metadata": {},
     "output_type": "execute_result"
    }
   ],
   "source": [
    "new_qc.get_counts(1024)"
   ]
  },
  {
   "cell_type": "markdown",
   "metadata": {},
   "source": [
    "#### How to optimize the circuits?\n",
    "\n",
    "`qickit` provides two categories of optimization, which depending on the purpose of the optimization may be chosen. The first category consists of IBM Qiskit's transpilation engine, which provides a lossless decomposition into U3 and CX gates, and allows for mild optimization in the process. This is useful for circuit to hardware mappings, which require paying attention to the native gates supported by the hardware.\n",
    "\n",
    "The second category consists of standalone optimization algorithms, which provide low-level optimization, i.e., reordering CX gates such that the total number of CX gates is minimized without any loss of fidelity. These algorithms provide further support on top of IBM Qiskit's transpilation engine, and function to provide the best performance for the user's algorithms."
   ]
  },
  {
   "cell_type": "code",
   "execution_count": 10,
   "metadata": {},
   "outputs": [
    {
     "name": "stdout",
     "output_type": "stream",
     "text": [
      "0: ─────────────────@─────────────────@───@────U3───@────────────@─────────────────@───@────U3───@───\n",
      "                    │                 │   │         │            │                 │   │         │\n",
      "1: ────────@────────┼────────@───U3───┼───X────U3───X───@────────┼────────@───U3───┼───X────U3───X───\n",
      "           │        │        │        │                 │        │        │        │\n",
      "2: ───U3───X───U3───X───U3───X───U3───X───U3────────────┼────────┼────────┼────────┼─────────────────\n",
      "                                                        │        │        │        │\n",
      "3: ───U3────────────────────────────────────────────────X───U3───X───U3───X───U3───X───U3────────────\n"
     ]
    }
   ],
   "source": [
    "qc = CirqCircuit(4, 4)\n",
    "\n",
    "qc.MCX([0, 1], [2, 3])\n",
    "\n",
    "qc.transpile()\n",
    "\n",
    "qc.draw()"
   ]
  },
  {
   "cell_type": "markdown",
   "metadata": {},
   "source": [
    "Another application of IBM Qiskit's transpilation engine is for calculating the effective depth - the longest sequence of U3 and CX gates - of the circuit, which through `qickit`'s conversion framework, provides a consistent calculation of the depth of the circuit for all of the supported frameworks. This is particularly useful for applications where the algorithm benefits from depth estimation, and if not done properly, different frameworks will provide drastically different results given the definition of depth, i.e., number of operations regardless of decomposition (where a MCX gate for instance would be considered as two gates, instead of twenty one)."
   ]
  },
  {
   "cell_type": "code",
   "execution_count": 11,
   "metadata": {},
   "outputs": [
    {
     "name": "stdout",
     "output_type": "stream",
     "text": [
      "21\n"
     ]
    }
   ],
   "source": [
    "qc = TKETCircuit(4, 4)\n",
    "\n",
    "qc.MCX([0, 1], [2, 3])\n",
    "\n",
    "print(qc.get_depth())"
   ]
  },
  {
   "cell_type": "markdown",
   "metadata": {},
   "source": [
    "`qickit` provides many built-in features which make development as seamless as possible. With the wrapper approach, you reach a hardware agnostic implementation. However, since the wrapper supports almost all currently existing frameworks, you can access any backend through any framework without having to change syntax or your application.\n",
    "\n",
    "`qickit` as of 2024 is still in the early stages of development, therefore there will be many more features such as further built-in optimizations, transpliations, and more backends available as it evolves."
   ]
  },
  {
   "cell_type": "markdown",
   "metadata": {},
   "source": [
    "<p>© 2024 Qualition Computing, all rights reserved.</p>"
   ]
  }
 ],
 "metadata": {
  "kernelspec": {
   "display_name": "Python 3",
   "language": "python",
   "name": "python3"
  },
  "language_info": {
   "codemirror_mode": {
    "name": "ipython",
    "version": 3
   },
   "file_extension": ".py",
   "mimetype": "text/x-python",
   "name": "python",
   "nbconvert_exporter": "python",
   "pygments_lexer": "ipython3",
   "version": "3.11.8"
  }
 },
 "nbformat": 4,
 "nbformat_minor": 2
}
