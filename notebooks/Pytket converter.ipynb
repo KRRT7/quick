{
 "cells": [
  {
   "cell_type": "code",
   "execution_count": 1,
   "metadata": {},
   "outputs": [],
   "source": [
    "import sys\n",
    "sys.path.append(\"C:/Users/A.C.EA/OneDrive/Documents/GitHub/QICKIT\")"
   ]
  },
  {
   "cell_type": "code",
   "execution_count": 2,
   "metadata": {},
   "outputs": [],
   "source": [
    "from qickit.circuit import Circuit, TKETCircuit"
   ]
  },
  {
   "cell_type": "code",
   "execution_count": 4,
   "metadata": {},
   "outputs": [],
   "source": [
    "from pytket import Circuit as TKCircuit\n",
    "from pytket import OpType\n",
    "from pytket.circuit import Op, QControlBox"
   ]
  },
  {
   "cell_type": "code",
   "execution_count": null,
   "metadata": {},
   "outputs": [],
   "source": [
    "qc = TKETCircuit(2, 2)\n",
    "\n",
    "qc.MCX()"
   ]
  },
  {
   "cell_type": "code",
   "execution_count": 4,
   "metadata": {},
   "outputs": [
    {
     "data": {
      "text/plain": [
       "[X q[0]; qif (q[0] = 1, q[1] = 1) H q[2]; qif (q[0] = 1, q[1] = 1) H q[3]; ]"
      ]
     },
     "execution_count": 4,
     "metadata": {},
     "output_type": "execute_result"
    }
   ],
   "source": [
    "qc = TKCircuit(4, 4)\n",
    "qc.add_gate(OpType.X, [0])\n",
    "\n",
    "h = Op.create(OpType.H)\n",
    "mch = QControlBox(h, 2)\n",
    "\n",
    "qc.add_qcontrolbox(mch, [0, 1] + [2])\n",
    "qc.add_qcontrolbox(mch, [0, 1] + [3])"
   ]
  },
  {
   "cell_type": "code",
   "execution_count": 5,
   "metadata": {},
   "outputs": [
    {
     "data": {
      "text/plain": [
       "[X q[0]; qif (q[0] = 1, q[1] = 1) H q[2]; qif (q[0] = 1, q[1] = 1) H q[3]; ]"
      ]
     },
     "execution_count": 5,
     "metadata": {},
     "output_type": "execute_result"
    }
   ],
   "source": [
    "new_qc = Circuit.from_tket(qc, TKETCircuit)\n",
    "\n",
    "new_qc.circuit"
   ]
  }
 ],
 "metadata": {
  "kernelspec": {
   "display_name": ".venv",
   "language": "python",
   "name": "python3"
  },
  "language_info": {
   "codemirror_mode": {
    "name": "ipython",
    "version": 3
   },
   "file_extension": ".py",
   "mimetype": "text/x-python",
   "name": "python",
   "nbconvert_exporter": "python",
   "pygments_lexer": "ipython3",
   "version": "3.11.9"
  }
 },
 "nbformat": 4,
 "nbformat_minor": 2
}
