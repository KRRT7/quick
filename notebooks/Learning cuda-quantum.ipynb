{
 "cells": [
  {
   "cell_type": "code",
   "execution_count": null,
   "metadata": {},
   "outputs": [],
   "source": [
    "import cudaq"
   ]
  },
  {
   "cell_type": "code",
   "execution_count": null,
   "metadata": {},
   "outputs": [
    {
     "name": "stdout",
     "output_type": "stream",
     "text": [
      "{ 11:499 00:501 }\n",
      "\n"
     ]
    }
   ],
   "source": [
    "kernel = cudaq.make_kernel()\n",
    "qubits = kernel.qalloc(2)\n",
    "\n",
    "kernel.h(qubits[0])\n",
    "# add controlled x gate\n",
    "kernel.cx(qubits[0], qubits[1])\n",
    "result = cudaq.sample(kernel)\n",
    "print(result) "
   ]
  },
  {
   "cell_type": "code",
   "execution_count": null,
   "metadata": {},
   "outputs": [
    {
     "name": "stdout",
     "output_type": "stream",
     "text": [
      "{ 000:1000 }\n",
      "\n",
      "          \n",
      "q0 : ──●──\n",
      "       │  \n",
      "q1 : ──●──\n",
      "     ╭─┴─╮\n",
      "q2 : ┤ x ├\n",
      "     ╰───╯\n",
      "\n"
     ]
    }
   ],
   "source": [
    "# Example:\n",
    "# Create a `Kernel` that accepts a qubit as an argument.\n",
    "# Apply an X-gate on that qubit.\n",
    "target_kernel, qubit = cudaq.make_kernel(cudaq.qubit)\n",
    "target_kernel.x(qubit)\n",
    "\n",
    "# Create another `Kernel` that will apply `target_kernel`\n",
    "# as a controlled operation.\n",
    "kernel = cudaq.make_kernel()\n",
    "control_qubit = kernel.qalloc(2)\n",
    "target_qubit = kernel.qalloc()\n",
    "\n",
    "# In this case, `control` performs the equivalent of a\n",
    "# controlled-X gate between `control_qubit` and `target_qubit`.\n",
    "kernel.control(target_kernel, control_qubit, target_qubit)\n",
    "\n",
    "result = cudaq.sample(kernel)\n",
    "print(result)\n",
    "\n",
    "print(cudaq.draw(kernel))"
   ]
  },
  {
   "cell_type": "code",
   "execution_count": null,
   "metadata": {},
   "outputs": [
    {
     "name": "stdout",
     "output_type": "stream",
     "text": [
      "<class 'cudaq.kernel.kernel_decorator.PyKernelDecorator'>\n",
      "     ╭───╮     \n",
      "q0 : ┤ h ├──●──\n",
      "     ╰───╯╭─┴─╮\n",
      "q1 : ─────┤ x ├\n",
      "          ╰───╯\n",
      "\n"
     ]
    }
   ],
   "source": [
    "import cudaq\n",
    "\n",
    "qubit_count = 2\n",
    "\n",
    "# Define a quantum kernel function.\n",
    "@cudaq.kernel\n",
    "def lala(qubit_count: int):\n",
    "    qvector = cudaq.qvector(qubit_count)\n",
    "\n",
    "    # 2-qubit GHZ state.\n",
    "    h(qvector[0])\n",
    "    for i in range(1, qubit_count):\n",
    "        x.ctrl(qvector[0], qvector[i])\n",
    "\n",
    "    # If we don't specify measurements, all qubits are measured in\n",
    "    # the Z-basis by default.\n",
    "    mz(qvector)\n",
    "\n",
    "print(type(lala))\n",
    "# Draw the circuit.\n",
    "print(cudaq.draw(lala, qubit_count))"
   ]
  },
  {
   "cell_type": "code",
   "execution_count": 2,
   "metadata": {},
   "outputs": [
    {
     "name": "stdout",
     "output_type": "stream",
     "text": [
      "lalala\n"
     ]
    }
   ],
   "source": [
    "print(\"lalala\")"
   ]
  },
  {
   "cell_type": "code",
   "execution_count": 1,
   "metadata": {},
   "outputs": [
    {
     "name": "stdout",
     "output_type": "stream",
     "text": [
      "     ╭───╮\n",
      "q0 : ┤ h ├\n",
      "     ╰───╯\n",
      "\n"
     ]
    }
   ],
   "source": [
    "import cudaq\n",
    "import numpy as np\n",
    "\n",
    "class CUDA:\n",
    "    def __init__(self,\n",
    "                 num_qubits: int) -> None:\n",
    "        self.num_qubits = num_qubits\n",
    "        self.circuit = cudaq.make_kernel()\n",
    "        self.qr = self.circuit.qalloc(self.num_qubits)\n",
    "\n",
    "    def X(self,\n",
    "          qubit_index: int) -> None:\n",
    "        self.circuit.x(self.qr[qubit_index])\n",
    "\n",
    "    def H(self,\n",
    "          qubit_index: int) -> None:\n",
    "        self.circuit.h(self.qr[qubit_index])\n",
    "\n",
    "    def U3(self,\n",
    "           angles,\n",
    "           qubit_index: int) -> None:\n",
    "        self.circuit.rz(angles[2], self.qr[qubit_index])\n",
    "        self.circuit.rx(np.pi/2, self.qr[qubit_index])\n",
    "        self.circuit.rz(angles[0], self.qr[qubit_index])\n",
    "        self.circuit.rx(-np.pi/2, self.qr[qubit_index])\n",
    "        self.circuit.rz(angles[1], self.qr[qubit_index])\n",
    "\n",
    "    def CX(self,\n",
    "           control_index: int,\n",
    "           target_index: int) -> None:\n",
    "        self.circuit.cx(self.qr[control_index], self.qr[target_index])\n",
    "\n",
    "    def CCX(self,\n",
    "            control_index1: int,\n",
    "            control_index2: int,\n",
    "            target_index: int) -> None:\n",
    "        self.circuit.cx([self.qr[control_index1], self.qr[control_index2]], self.qr[target_index])\n",
    "\n",
    "    def CRX(self,\n",
    "            angle,\n",
    "            control_index: int,\n",
    "            target_index: int) -> None:\n",
    "        self.circuit.crx(angle, self.qr[control_index], self.qr[target_index])\n",
    "\n",
    "    def measure(self) -> None:\n",
    "        for i in range(self.num_qubits):\n",
    "            self.circuit.mz(self.qr[i])\n",
    "\n",
    "    def get_counts(self,\n",
    "                   num_shots: int) -> dict:\n",
    "        result = str(qc.get_counts(1000)).split()[1:-1]\n",
    "        counts = {pair.split(\":\")[0]: int(pair.split(\":\")[1]) for pair in result}\n",
    "        return counts\n",
    "\n",
    "    def get_state(self):\n",
    "        return cudaq.get_state(self.circuit)\n",
    "\n",
    "    def get_operator(self):\n",
    "        return cudaq.o\n",
    "\n",
    "    def draw(self) -> None:\n",
    "        print(cudaq.draw(self.circuit))\n",
    "\n",
    "qc = CUDA(2)\n",
    "qc.H(0)\n",
    "# qc.CX(0, 1)\n",
    "# qc.U3([0.1, 0.2, 0.3], 0)\n",
    "# qc.CCX(0, 1, 2)\n",
    "# qc.CRX(0.5, 0, 1)\n",
    "qc.draw()\n",
    "\n",
    "s = qc.get_state()"
   ]
  },
  {
   "cell_type": "code",
   "execution_count": 2,
   "metadata": {},
   "outputs": [
    {
     "data": {
      "text/plain": [
       "array([0.70710678+0.j, 0.70710678+0.j, 0.        +0.j, 0.        +0.j])"
      ]
     },
     "execution_count": 2,
     "metadata": {},
     "output_type": "execute_result"
    }
   ],
   "source": [
    "np.array(s)"
   ]
  },
  {
   "cell_type": "code",
   "execution_count": null,
   "metadata": {},
   "outputs": [],
   "source": []
  }
 ],
 "metadata": {
  "kernelspec": {
   "display_name": ".venv",
   "language": "python",
   "name": "python3"
  },
  "language_info": {
   "codemirror_mode": {
    "name": "ipython",
    "version": 3
   },
   "file_extension": ".py",
   "mimetype": "text/x-python",
   "name": "python",
   "nbconvert_exporter": "python",
   "pygments_lexer": "ipython3",
   "version": "3.11.9"
  }
 },
 "nbformat": 4,
 "nbformat_minor": 2
}
